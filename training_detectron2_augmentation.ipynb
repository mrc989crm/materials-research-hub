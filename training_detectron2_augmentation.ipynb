{
  "cells": [
    {
      "cell_type": "markdown",
      "metadata": {
        "id": "a7rpQ9GiFdlP"
      },
      "source": [
        "# Connect to Google Drive"
      ]
    },
    {
      "cell_type": "code",
      "execution_count": null,
      "metadata": {
        "colab": {
          "base_uri": "https://localhost:8080/"
        },
        "id": "XnHr4D8xZ0Z3",
        "outputId": "0edc4517-7f0d-4d5d-dd77-3f5d6e0d7c82"
      },
      "outputs": [
        {
          "name": "stdout",
          "output_type": "stream",
          "text": [
            "Mounted at /content/drive\n"
          ]
        }
      ],
      "source": [
        "from google.colab import drive\n",
        "drive.mount('/content/drive')"
      ]
    },
    {
      "cell_type": "markdown",
      "source": [
        "# Choose the right folder based on classes/regimes"
      ],
      "metadata": {
        "id": "bRR1H0RimiTv"
      }
    },
    {
      "cell_type": "code",
      "source": [
        "import os\n",
        "os.chdir(\"/content/drive/My Drive/Colab Notebooks/detectron2/detectron/dataset/1536x/iii\")"
      ],
      "metadata": {
        "id": "Cf1MUy_umbfo"
      },
      "execution_count": null,
      "outputs": []
    },
    {
      "cell_type": "code",
      "source": [
        "os.listdir(os.getcwd())"
      ],
      "metadata": {
        "id": "gIzVQB2PmjDh"
      },
      "execution_count": null,
      "outputs": []
    },
    {
      "cell_type": "code",
      "source": [
        "import numpy as np\n",
        "import os, json, cv2, random"
      ],
      "metadata": {
        "id": "jQO5cnxilEKP"
      },
      "execution_count": null,
      "outputs": []
    },
    {
      "cell_type": "markdown",
      "metadata": {
        "id": "kWn4y1UjtgPK"
      },
      "source": [
        "# Create augmented train images (Run this only once)"
      ]
    },
    {
      "cell_type": "code",
      "execution_count": null,
      "metadata": {
        "colab": {
          "base_uri": "https://localhost:8080/",
          "height": 954
        },
        "id": "Tu7N-MBnu6Az",
        "outputId": "92e9f474-21a2-477d-b091-d52fc0de7717"
      },
      "outputs": [
        {
          "name": "stdout",
          "output_type": "stream",
          "text": [
            "Collecting clodsa\n",
            "  Downloading clodsa-1.2.47.tar.gz (30 kB)\n",
            "Collecting mahotas\n",
            "  Downloading mahotas-1.4.12-cp37-cp37m-manylinux_2_12_x86_64.manylinux2010_x86_64.whl (5.7 MB)\n",
            "\u001b[K     |████████████████████████████████| 5.7 MB 6.3 MB/s \n",
            "\u001b[?25hRequirement already satisfied: imutils in /usr/local/lib/python3.7/dist-packages (from clodsa) (0.5.4)\n",
            "Requirement already satisfied: Keras in /usr/local/lib/python3.7/dist-packages (from clodsa) (2.7.0)\n",
            "Collecting commentjson\n",
            "  Downloading commentjson-0.9.0.tar.gz (8.7 kB)\n",
            "Requirement already satisfied: scipy in /usr/local/lib/python3.7/dist-packages (from clodsa) (1.7.3)\n",
            "Requirement already satisfied: h5py in /usr/local/lib/python3.7/dist-packages (from clodsa) (3.1.0)\n",
            "Requirement already satisfied: numpy in /usr/local/lib/python3.7/dist-packages (from clodsa) (1.19.5)\n",
            "Requirement already satisfied: progressbar2 in /usr/local/lib/python3.7/dist-packages (from clodsa) (3.38.0)\n",
            "Requirement already satisfied: scikit_learn in /usr/local/lib/python3.7/dist-packages (from clodsa) (1.0.2)\n",
            "Requirement already satisfied: joblib in /usr/local/lib/python3.7/dist-packages (from clodsa) (1.1.0)\n",
            "Collecting lark-parser<0.8.0,>=0.7.1\n",
            "  Downloading lark-parser-0.7.8.tar.gz (276 kB)\n",
            "\u001b[K     |████████████████████████████████| 276 kB 68.6 MB/s \n",
            "\u001b[?25hRequirement already satisfied: cached-property in /usr/local/lib/python3.7/dist-packages (from h5py->clodsa) (1.5.2)\n",
            "Requirement already satisfied: python-utils>=2.3.0 in /usr/local/lib/python3.7/dist-packages (from progressbar2->clodsa) (3.0.0)\n",
            "Requirement already satisfied: six in /usr/local/lib/python3.7/dist-packages (from progressbar2->clodsa) (1.15.0)\n",
            "Requirement already satisfied: threadpoolctl>=2.0.0 in /usr/local/lib/python3.7/dist-packages (from scikit_learn->clodsa) (3.0.0)\n",
            "Building wheels for collected packages: clodsa, commentjson, lark-parser\n",
            "  Building wheel for clodsa (setup.py) ... \u001b[?25l\u001b[?25hdone\n",
            "  Created wheel for clodsa: filename=clodsa-1.2.47-py2.py3-none-any.whl size=74310 sha256=1e41d3dd574281bcf6316abb30bbc24162fb5a7c92b51f3b00d5fb0fe2a3ea22\n",
            "  Stored in directory: /root/.cache/pip/wheels/05/ff/0a/0e6e14c2a68d6869a010e979b8fd9d669aaeaa2d8b29de394f\n",
            "  Building wheel for commentjson (setup.py) ... \u001b[?25l\u001b[?25hdone\n",
            "  Created wheel for commentjson: filename=commentjson-0.9.0-py3-none-any.whl size=12092 sha256=a55e1b865b1e321696e91969978b635314945ec5bb8e2be2b3bf83d272c6a5b6\n",
            "  Stored in directory: /root/.cache/pip/wheels/eb/bb/07/25a7f0718ee3fe137384011b8e56070f91cf950ee6047c287f\n",
            "  Building wheel for lark-parser (setup.py) ... \u001b[?25l\u001b[?25hdone\n",
            "  Created wheel for lark-parser: filename=lark_parser-0.7.8-py2.py3-none-any.whl size=62527 sha256=08b9316b2e93efd1ed6246423ca403e26ecae32966d85c512fc27f97a5a0379a\n",
            "  Stored in directory: /root/.cache/pip/wheels/92/e3/af/1dc0fdca93232d700ac176af6554cf22b85f3d7e8aeee5ac08\n",
            "Successfully built clodsa commentjson lark-parser\n",
            "Installing collected packages: lark-parser, mahotas, commentjson, clodsa\n",
            "Successfully installed clodsa-1.2.47 commentjson-0.9.0 lark-parser-0.7.8 mahotas-1.4.12\n",
            "Requirement already satisfied: numpy in /usr/local/lib/python3.7/dist-packages (1.19.5)\n",
            "Collecting numpy\n",
            "  Downloading numpy-1.21.5-cp37-cp37m-manylinux_2_12_x86_64.manylinux2010_x86_64.whl (15.7 MB)\n",
            "\u001b[K     |████████████████████████████████| 15.7 MB 5.2 MB/s \n",
            "\u001b[?25hInstalling collected packages: numpy\n",
            "  Attempting uninstall: numpy\n",
            "    Found existing installation: numpy 1.19.5\n",
            "    Uninstalling numpy-1.19.5:\n",
            "      Successfully uninstalled numpy-1.19.5\n",
            "\u001b[31mERROR: pip's dependency resolver does not currently take into account all the packages that are installed. This behaviour is the source of the following dependency conflicts.\n",
            "yellowbrick 1.3.post1 requires numpy<1.20,>=1.16.0, but you have numpy 1.21.5 which is incompatible.\n",
            "datascience 0.10.6 requires folium==0.2.1, but you have folium 0.8.3 which is incompatible.\n",
            "albumentations 0.1.12 requires imgaug<0.2.7,>=0.2.5, but you have imgaug 0.2.9 which is incompatible.\u001b[0m\n",
            "Successfully installed numpy-1.21.5\n"
          ]
        },
        {
          "data": {
            "application/vnd.colab-display-data+json": {
              "pip_warning": {
                "packages": [
                  "numpy"
                ]
              }
            }
          },
          "metadata": {},
          "output_type": "display_data"
        }
      ],
      "source": [
        "!pip install clodsa\n",
        "!pip install numpy --upgrade"
      ]
    },
    {
      "cell_type": "markdown",
      "metadata": {
        "id": "jPe6Pm2sKc7m"
      },
      "source": [
        "The annotations json file needs to be in the INPUT_PATH. Also make sure the annotations file has the \"info\" and \"license\" information. Create folder \"im_train_aug\""
      ]
    },
    {
      "cell_type": "code",
      "execution_count": null,
      "metadata": {
        "colab": {
          "base_uri": "https://localhost:8080/"
        },
        "id": "5L9bYSmU99vF",
        "outputId": "a3356c64-edc6-401c-c303-4f5296b0289f"
      },
      "outputs": [
        {
          "name": "stderr",
          "output_type": "stream",
          "text": [
            "/usr/local/lib/python3.7/dist-packages/joblib/externals/loky/process_executor.py:705: UserWarning: A worker stopped while some jobs were given to the executor. This can be caused by a too short worker timeout or by a memory leak.\n",
            "  \"timeout or by a memory leak.\", UserWarning\n"
          ]
        }
      ],
      "source": [
        "from clodsa.augmentors.augmentorFactory import createAugmentor\n",
        "from clodsa.transformers.transformerFactory import transformerGenerator\n",
        "from clodsa.techniques.techniqueFactory import createTechnique\n",
        "\n",
        "# The kind of problem. In this case, we are working in an instance segmentation problem.\n",
        "PROBLEM = \"instance_segmentation\"\n",
        "# The annotation mode. The annotation is provided using the coco format in a file called annotations.json.\n",
        "ANNOTATION_MODE = \"coco\"\n",
        "# The input path. The input path containing the images.\n",
        "INPUT_PATH = \"im_train\"\n",
        "# The generation mode. In this case, linear, that is, all the augmentation techniques are applied to all the images of the original dataset.\n",
        "GENERATION_MODE = \"linear\"\n",
        "# The output mode. The generated images will be stored in a new folder called output.\n",
        "OUTPUT_MODE = \"coco\"\n",
        "OUTPUT_PATH= \"im_train_aug/\"\n",
        "\n",
        "augmentor = createAugmentor(PROBLEM, ANNOTATION_MODE, OUTPUT_MODE, GENERATION_MODE, INPUT_PATH, { \"outputPath\": OUTPUT_PATH })\n",
        "\n",
        "# Adding the augmentation techniques\n",
        "transformer = transformerGenerator(PROBLEM)\n",
        "# Rotations:\n",
        "for angle in [90,180]:\n",
        "    rotate = createTechnique(\"rotate\", {\"angle\" : angle})\n",
        "    augmentor.addTransformer(transformer(rotate))\n",
        "# Flips:\n",
        "flip = createTechnique(\"flip\",{\"flip\":1})\n",
        "augmentor.addTransformer(transformer(flip))\n",
        "\n",
        "# Applying the augmentation process\n",
        "augmentor.applyAugmentation()\n"
      ]
    },
    {
      "cell_type": "markdown",
      "metadata": {
        "id": "09m-fWNQf-iP"
      },
      "source": [
        "# Merge datasets for training\n"
      ]
    },
    {
      "cell_type": "code",
      "execution_count": null,
      "metadata": {
        "colab": {
          "base_uri": "https://localhost:8080/",
          "height": 1000
        },
        "id": "kMtyAQ-Of7ew",
        "outputId": "48eae8fd-7e75-44c7-a195-ed7e89df730a"
      },
      "outputs": [
        {
          "name": "stdout",
          "output_type": "stream",
          "text": [
            "Collecting coco-assistant\n",
            "  Downloading coco_assistant-0.4.0-py3-none-any.whl (16 kB)\n",
            "Collecting pandas<2.0.0,>=1.3.1\n",
            "  Downloading pandas-1.3.5-cp37-cp37m-manylinux_2_17_x86_64.manylinux2014_x86_64.whl (11.3 MB)\n",
            "\u001b[K     |████████████████████████████████| 11.3 MB 5.0 MB/s \n",
            "\u001b[?25hCollecting coco-ash<3.0.0,>=2.0.2\n",
            "  Downloading coco_ash-2.0.2-cp37-cp37m-manylinux2010_x86_64.whl (327 kB)\n",
            "\u001b[K     |████████████████████████████████| 327 kB 77.3 MB/s \n",
            "\u001b[?25hRequirement already satisfied: tqdm<5.0.0,>=4.62.0 in /usr/local/lib/python3.7/dist-packages (from coco-assistant) (4.62.3)\n",
            "Requirement already satisfied: seaborn<0.12.0,>=0.11.1 in /usr/local/lib/python3.7/dist-packages (from coco-assistant) (0.11.2)\n",
            "Collecting mkdocs-material-extensions<2.0.0,>=1.0.1\n",
            "  Downloading mkdocs_material_extensions-1.0.3-py3-none-any.whl (8.1 kB)\n",
            "Collecting matplotlib<4.0.0,>=3.4.2\n",
            "  Downloading matplotlib-3.5.1-cp37-cp37m-manylinux_2_5_x86_64.manylinux1_x86_64.whl (11.2 MB)\n",
            "\u001b[K     |████████████████████████████████| 11.2 MB 55.5 MB/s \n",
            "\u001b[?25hCollecting requests<3.0.0,>=2.26.0\n",
            "  Downloading requests-2.27.1-py2.py3-none-any.whl (63 kB)\n",
            "\u001b[K     |████████████████████████████████| 63 kB 2.3 MB/s \n",
            "\u001b[?25hRequirement already satisfied: cython>=0.27.3 in /usr/local/lib/python3.7/dist-packages (from coco-ash<3.0.0,>=2.0.2->coco-assistant) (0.29.26)\n",
            "Requirement already satisfied: setuptools>=18.0 in /usr/local/lib/python3.7/dist-packages (from coco-ash<3.0.0,>=2.0.2->coco-assistant) (57.4.0)\n",
            "Collecting fonttools>=4.22.0\n",
            "  Downloading fonttools-4.28.5-py3-none-any.whl (890 kB)\n",
            "\u001b[K     |████████████████████████████████| 890 kB 78.0 MB/s \n",
            "\u001b[?25hRequirement already satisfied: cycler>=0.10 in /usr/local/lib/python3.7/dist-packages (from matplotlib<4.0.0,>=3.4.2->coco-assistant) (0.11.0)\n",
            "Requirement already satisfied: python-dateutil>=2.7 in /usr/local/lib/python3.7/dist-packages (from matplotlib<4.0.0,>=3.4.2->coco-assistant) (2.8.2)\n",
            "Requirement already satisfied: packaging>=20.0 in /usr/local/lib/python3.7/dist-packages (from matplotlib<4.0.0,>=3.4.2->coco-assistant) (21.3)\n",
            "Requirement already satisfied: pyparsing>=2.2.1 in /usr/local/lib/python3.7/dist-packages (from matplotlib<4.0.0,>=3.4.2->coco-assistant) (3.0.6)\n",
            "Requirement already satisfied: numpy>=1.17 in /usr/local/lib/python3.7/dist-packages (from matplotlib<4.0.0,>=3.4.2->coco-assistant) (1.21.5)\n",
            "Requirement already satisfied: pillow>=6.2.0 in /usr/local/lib/python3.7/dist-packages (from matplotlib<4.0.0,>=3.4.2->coco-assistant) (7.1.2)\n",
            "Requirement already satisfied: kiwisolver>=1.0.1 in /usr/local/lib/python3.7/dist-packages (from matplotlib<4.0.0,>=3.4.2->coco-assistant) (1.3.2)\n",
            "Requirement already satisfied: pytz>=2017.3 in /usr/local/lib/python3.7/dist-packages (from pandas<2.0.0,>=1.3.1->coco-assistant) (2018.9)\n",
            "Requirement already satisfied: six>=1.5 in /usr/local/lib/python3.7/dist-packages (from python-dateutil>=2.7->matplotlib<4.0.0,>=3.4.2->coco-assistant) (1.15.0)\n",
            "Requirement already satisfied: certifi>=2017.4.17 in /usr/local/lib/python3.7/dist-packages (from requests<3.0.0,>=2.26.0->coco-assistant) (2021.10.8)\n",
            "Requirement already satisfied: urllib3<1.27,>=1.21.1 in /usr/local/lib/python3.7/dist-packages (from requests<3.0.0,>=2.26.0->coco-assistant) (1.24.3)\n",
            "Requirement already satisfied: charset-normalizer~=2.0.0 in /usr/local/lib/python3.7/dist-packages (from requests<3.0.0,>=2.26.0->coco-assistant) (2.0.10)\n",
            "Requirement already satisfied: idna<4,>=2.5 in /usr/local/lib/python3.7/dist-packages (from requests<3.0.0,>=2.26.0->coco-assistant) (2.10)\n",
            "Requirement already satisfied: scipy>=1.0 in /usr/local/lib/python3.7/dist-packages (from seaborn<0.12.0,>=0.11.1->coco-assistant) (1.7.3)\n",
            "Installing collected packages: fonttools, pandas, matplotlib, requests, mkdocs-material-extensions, coco-ash, coco-assistant\n",
            "  Attempting uninstall: pandas\n",
            "    Found existing installation: pandas 1.1.5\n",
            "    Uninstalling pandas-1.1.5:\n",
            "      Successfully uninstalled pandas-1.1.5\n",
            "  Attempting uninstall: matplotlib\n",
            "    Found existing installation: matplotlib 3.2.2\n",
            "    Uninstalling matplotlib-3.2.2:\n",
            "      Successfully uninstalled matplotlib-3.2.2\n",
            "  Attempting uninstall: requests\n",
            "    Found existing installation: requests 2.23.0\n",
            "    Uninstalling requests-2.23.0:\n",
            "      Successfully uninstalled requests-2.23.0\n",
            "\u001b[31mERROR: pip's dependency resolver does not currently take into account all the packages that are installed. This behaviour is the source of the following dependency conflicts.\n",
            "yellowbrick 1.3.post1 requires numpy<1.20,>=1.16.0, but you have numpy 1.21.5 which is incompatible.\n",
            "google-colab 1.0.0 requires pandas~=1.1.0; python_version >= \"3.0\", but you have pandas 1.3.5 which is incompatible.\n",
            "google-colab 1.0.0 requires requests~=2.23.0, but you have requests 2.27.1 which is incompatible.\n",
            "datascience 0.10.6 requires folium==0.2.1, but you have folium 0.8.3 which is incompatible.\n",
            "albumentations 0.1.12 requires imgaug<0.2.7,>=0.2.5, but you have imgaug 0.2.9 which is incompatible.\u001b[0m\n",
            "Successfully installed coco-ash-2.0.2 coco-assistant-0.4.0 fonttools-4.28.5 matplotlib-3.5.1 mkdocs-material-extensions-1.0.3 pandas-1.3.5 requests-2.27.1\n"
          ]
        },
        {
          "data": {
            "application/vnd.colab-display-data+json": {
              "pip_warning": {
                "packages": [
                  "matplotlib",
                  "mpl_toolkits",
                  "pandas"
                ]
              }
            }
          },
          "metadata": {},
          "output_type": "display_data"
        }
      ],
      "source": [
        "!pip install coco-assistant"
      ]
    },
    {
      "cell_type": "code",
      "execution_count": null,
      "metadata": {
        "colab": {
          "base_uri": "https://localhost:8080/"
        },
        "id": "iLhsEXKof923",
        "outputId": "f83bbe68-037d-4880-a279-d929ad33cd41"
      },
      "outputs": [
        {
          "name": "stdout",
          "output_type": "stream",
          "text": [
            "loading annotations into memory...\n",
            "Done (t=0.49s)\n",
            "creating index...\n",
            "index created!\n",
            "loading annotations into memory...\n",
            "Done (t=0.58s)\n",
            "creating index...\n",
            "index created!\n"
          ]
        }
      ],
      "source": [
        "from coco_assistant import COCO_Assistant\n",
        "\n",
        "# Specify image and annotation directories\n",
        "img_dir = os.path.join(os.getcwd(), 'im_to_merge')\n",
        "ann_dir = os.path.join(os.getcwd(), 'label_to_merge')\n",
        "\n",
        "# Create COCO_Assistant object\n",
        "cas = COCO_Assistant(img_dir, ann_dir)"
      ]
    },
    {
      "cell_type": "code",
      "execution_count": null,
      "metadata": {
        "colab": {
          "base_uri": "https://localhost:8080/"
        },
        "id": "aXcPEEykgllX",
        "outputId": "8d2a71b2-cce4-422a-b8c9-10f75eac4c67"
      },
      "outputs": [
        {
          "name": "stdout",
          "output_type": "stream",
          "text": [
            "Merging annotations\n"
          ]
        },
        {
          "name": "stderr",
          "output_type": "stream",
          "text": [
            "100%|██████████| 2/2 [00:00<00:00, 135.34it/s]\n"
          ]
        }
      ],
      "source": [
        "cas.merge()"
      ]
    },
    {
      "cell_type": "code",
      "execution_count": null,
      "metadata": {
        "colab": {
          "base_uri": "https://localhost:8080/",
          "height": 549
        },
        "id": "j9_yzvkx222E",
        "outputId": "408b961b-a22c-468d-d54f-536334a1c7c6"
      },
      "outputs": [
        {
          "data": {
            "image/png": "[encoded data removed]",
            "text/plain": [
              "<Figure size 792x792 with 2 Axes>"
            ]
          },
          "metadata": {},
          "output_type": "display_data"
        }
      ],
      "source": [
        "cas.ann_stats(stat=\"area\",arearng=[10,144,512,1e5],save=False)"
      ]
    },
    {
      "cell_type": "code",
      "execution_count": null,
      "metadata": {
        "colab": {
          "base_uri": "https://localhost:8080/",
          "height": 712
        },
        "id": "yyDeMNgn28o0",
        "outputId": "cb6e6efd-8df1-49e4-ed87-8e7e63e88e10"
      },
      "outputs": [
        {
          "data": {
            "image/png": "[encoded data removed]",
            "text/plain": [
              "<Figure size 792x792 with 2 Axes>"
            ]
          },
          "metadata": {},
          "output_type": "display_data"
        }
      ],
      "source": [
        "cas.ann_stats(stat=\"cat\", arearng=None, show_count=False, save=False)"
      ]
    },
    {
      "cell_type": "code",
      "execution_count": null,
      "metadata": {
        "id": "NyUN4BjT3TOt"
      },
      "outputs": [],
      "source": [
        "cas.visualise()\n"
      ]
    }
  ],
  "metadata": {
    "accelerator": "GPU",
    "colab": {
      "collapsed_sections": [],
      "name": "training_detectron2_augmentation.ipynb",
      "provenance": []
    },
    "kernelspec": {
      "display_name": "Python 3",
      "name": "python3"
    }
  },
  "nbformat": 4,
  "nbformat_minor": 0
}